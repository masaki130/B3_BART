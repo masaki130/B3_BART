{
 "cells": [
  {
   "cell_type": "markdown",
   "metadata": {},
   "source": [
    "# トークナイザの作成\n",
    "\n",
    "ペアデータを元に作成する"
   ]
  },
  {
   "cell_type": "code",
   "execution_count": 10,
   "metadata": {},
   "outputs": [],
   "source": [
    "from tokenizers import Tokenizer\n",
    "from tokenizers.models import BPE, Unigram, WordPiece\n",
    "from tokenizers.pre_tokenizers import WhitespaceSplit\n",
    "import tokenizers.decoders as decoders\n",
    "tokenizer = Tokenizer(BPE(unk_token=\"<unk>\"))\n",
    "tokenizer.decoer = decoders.BPEDecoder()\n",
    "\n",
    "# tokenizer = Tokenizer(Unigram())\n",
    "# tokenizer = Tokenizer(WordPiece(unk_token=\"<unk>\",))\n",
    "# tokenizer.decoder = decoders.WordPiece()\n",
    "\n",
    "tokenizer.pre_tokenizer = WhitespaceSplit()"
   ]
  },
  {
   "cell_type": "code",
   "execution_count": 11,
   "metadata": {},
   "outputs": [],
   "source": [
    "vocab_size = 5000\n",
    "special_tokens = [\"<s>\", \"<pad>\", \"</s>\", \"<unk>\"]\n",
    "from tokenizers.trainers import BpeTrainer\n",
    "trainer = BpeTrainer(vocab_size=vocab_size, special_tokens=special_tokens, show_progress=True)\n",
    "# from tokenizers.trainers import UnigramTrainer\n",
    "# trainer = UnigramTrainer(special_tokens=special_tokens, show_progress=True)\n",
    "# from tokenizers.trainers import WordPieceTrainer\n",
    "# trainer = WordPieceTrainer(special_tokens=special_tokens, show_progress=True)"
   ]
  },
  {
   "cell_type": "code",
   "execution_count": 12,
   "metadata": {},
   "outputs": [],
   "source": [
    "# all.jsonに保存されたresults[]から、日本語文(text)と韻律音素列(phoneme_text)だけを読み込む(gen関数)\n",
    "def gen():\n",
    "    import json\n",
    "    data = json.load(open(\"all.json\", \"r\"))\n",
    "\n",
    "    for d in data:\n",
    "        yield d[\"text\"]\n",
    "        yield d[\"phoneme_text\"]"
   ]
  },
  {
   "cell_type": "code",
   "execution_count": 13,
   "metadata": {},
   "outputs": [],
   "source": [
    "# 確認用\n",
    "# gen() 関数を呼び出してジェネレーターを取得し、リストに変換\n",
    "# generator = gen()\n",
    "# data_list = list(generator)\n",
    "\n",
    "# プリント\n",
    "# for item in data_list:\n",
    "    # print(item)"
   ]
  },
  {
   "cell_type": "code",
   "execution_count": 14,
   "metadata": {},
   "outputs": [
    {
     "name": "stdout",
     "output_type": "stream",
     "text": [
      "\n",
      "\n",
      "\n"
     ]
    }
   ],
   "source": [
    "tokenizer.train_from_iterator(gen(), trainer=trainer)"
   ]
  },
  {
   "cell_type": "code",
   "execution_count": 15,
   "metadata": {},
   "outputs": [],
   "source": [
    "from tokenizers.processors import TemplateProcessing\n",
    "\n",
    "tokenizer.post_processor = TemplateProcessing(\n",
    "    single=\"<s> $A </s>\",\n",
    "    pair=\"<s> $A </s> </s> <s> $B </s>\",\n",
    "    special_tokens=[\n",
    "        (\"<s>\", tokenizer.token_to_id(\"<s>\")),\n",
    "        (\"</s>\", tokenizer.token_to_id(\"</s>\")),\n",
    "    ],)"
   ]
  },
  {
   "cell_type": "code",
   "execution_count": 16,
   "metadata": {},
   "outputs": [],
   "source": [
    "# tokenizer.save()は、transformersライブラリに定義されている\n",
    "# トークナイザーの状態をtokenizer.jsonに保存\n",
    "tokenizer.save(\"tokenizer.json\")\n"
   ]
  },
  {
   "cell_type": "code",
   "execution_count": 17,
   "metadata": {},
   "outputs": [
    {
     "data": {
      "text/plain": [
       "'それ では これから 発表 を 始め たい と思います'"
      ]
     },
     "execution_count": 17,
     "metadata": {},
     "output_type": "execute_result"
    }
   ],
   "source": [
    "text = \"それではこれから発表を始めたいと思います\"\n",
    "# textのトークン化(数値化)\n",
    "encoded = tokenizer.encode(text)\n",
    "# 数値→文字列\n",
    "tokenizer.decode(encoded.ids)"
   ]
  },
  {
   "cell_type": "code",
   "execution_count": 18,
   "metadata": {},
   "outputs": [
    {
     "name": "stdout",
     "output_type": "stream",
     "text": [
      "[0, 11, 20, 13, 9, 3303, 3575, 27, 27, 4, 3302, 21, 9, 25, 13, 10, 30, 32, 5, 2]\n"
     ]
    },
    {
     "data": {
      "text/plain": [
       "'^ h a [ cl py o o # sh i [ m a ] s u $'"
      ]
     },
     "execution_count": 18,
     "metadata": {},
     "output_type": "execute_result"
    }
   ],
   "source": [
    "text = \"^ h a [ cl py o o # sh i [ m a ] s u $\"\n",
    "# text = \"^ k i [ n o # y o [ w a ] i # o [ t o k o ] g a _ b i ] j o o # e ] t a # t a [ m e # sh i [ g a n a ] i $\"\n",
    "encoded = tokenizer.encode(text)\n",
    "print(encoded.ids)\n",
    "tokenizer.decode(encoded.ids)"
   ]
  }
 ],
 "metadata": {
  "kernelspec": {
   "display_name": "tts_prep_nn",
   "language": "python",
   "name": "python3"
  },
  "language_info": {
   "codemirror_mode": {
    "name": "ipython",
    "version": 3
   },
   "file_extension": ".py",
   "mimetype": "text/x-python",
   "name": "python",
   "nbconvert_exporter": "python",
   "pygments_lexer": "ipython3",
   "version": "3.8.0"
  }
 },
 "nbformat": 4,
 "nbformat_minor": 2
}
