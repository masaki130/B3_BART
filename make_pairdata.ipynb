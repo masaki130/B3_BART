{
 "cells": [
  {
   "cell_type": "code",
   "execution_count": 1,
   "metadata": {},
   "outputs": [],
   "source": [
    "# CSJ の TRN ファイルがあるディレクトリ\n",
    "CSJ_TRN_DIR = \"/autofs/diamond/share/corpus/CSJ/TRN/Form2\""
   ]
  },
  {
   "cell_type": "code",
   "execution_count": 2,
   "metadata": {},
   "outputs": [],
   "source": [
    "import os\n",
    "\n",
    "# TRNファイルのリストを作成\n",
    "trn_files = []\n",
    "for root, dirs, files in os.walk(CSJ_TRN_DIR):\n",
    "    for file in files:\n",
    "        if file.endswith('.trn'):\n",
    "            trn_files.append(os.path.join(root, file))"
   ]
  },
  {
   "cell_type": "code",
   "execution_count": 3,
   "metadata": {},
   "outputs": [],
   "source": [
    "from csj_formatter import remove_tag_from_plain_tagged_string\n",
    "from espnet_phoneme_tokenizer import pyopenjtalk_g2p_prosody\n",
    "\n",
    "def read_and_format_trn_file(filename):\n",
    "    # 講演ID\n",
    "    session_id = os.path.basename(filename).split('.')[0]\n",
    "\n",
    "    results = []\n",
    "    with open(filename, 'r', encoding='sjis') as f:     # 各ファイルを読み込む\n",
    "        for line in f:\n",
    "            utt_id, _, text = line.rstrip().split(' ', 2)\n",
    "            channel = text[0]\n",
    "            text = text[2:]\n",
    "\n",
    "            if 'R' in text:\n",
    "                continue\n",
    "            if '<' in text:\n",
    "                continue\n",
    "\n",
    "            try:\n",
    "                formatted_text = remove_tag_from_plain_tagged_string(text)\n",
    "            except ValueError as e:\n",
    "                # print(e)\n",
    "                # print(text)\n",
    "                continue\n",
    "\n",
    "            if len(formatted_text) == 0:\n",
    "                continue\n",
    "\n",
    "            phoneme_text = ' '.join(pyopenjtalk_g2p_prosody(formatted_text))\n",
    "\n",
    "            if len(phoneme_text) == 0:\n",
    "                continue\n",
    "            \n",
    "            results.append({\n",
    "                'session_id': session_id,\n",
    "                'utt_id': int(utt_id),\n",
    "                'channel': channel,\n",
    "                'text': formatted_text,\n",
    "                'phoneme_text': phoneme_text,\n",
    "            })\n",
    "            \n",
    "        return results"
   ]
  },
  {
   "cell_type": "code",
   "execution_count": 4,
   "metadata": {},
   "outputs": [
    {
     "name": "stderr",
     "output_type": "stream",
     "text": [
      "  0%|          | 0/3302 [00:00<?, ?it/s]"
     ]
    },
    {
     "name": "stderr",
     "output_type": "stream",
     "text": [
      "  0%|          | 2/3302 [00:04<1:45:14,  1.91s/it]WARNING: convert_pos() in njd2jpcommon.c: 記号 固有名詞 組織 * are not appropriate POS.\n",
      "  1%|          | 20/3302 [00:09<12:24,  4.41it/s] WARNING: convert_pos() in njd2jpcommon.c: 記号 固有名詞 組織 * are not appropriate POS.\n",
      "  1%|          | 23/3302 [00:09<10:18,  5.30it/s]WARNING: convert_pos() in njd2jpcommon.c: 記号 固有名詞 組織 * are not appropriate POS.\n",
      "  1%|          | 28/3302 [00:10<09:09,  5.96it/s]WARNING: JPCommonLabel_insert_pause() in jpcommon_label.c: First mora should not be short pause.\n",
      "  1%|          | 30/3302 [00:10<09:46,  5.58it/s]WARNING: convert_pos() in njd2jpcommon.c: 記号 固有名詞 組織 * are not appropriate POS.\n",
      "  1%|          | 31/3302 [00:11<10:10,  5.36it/s]WARNING: JPCommonLabel_insert_pause() in jpcommon_label.c: First mora should not be short pause.\n",
      "  1%|          | 32/3302 [00:11<14:37,  3.73it/s]WARNING: convert_pos() in njd2jpcommon.c: 記号 固有名詞 組織 * are not appropriate POS.\n",
      "  1%|          | 36/3302 [00:13<22:30,  2.42it/s]WARNING: convert_pos() in njd2jpcommon.c: 記号 固有名詞 組織 * are not appropriate POS.\n",
      "  1%|          | 38/3302 [00:14<20:39,  2.63it/s]WARNING: convert_pos() in njd2jpcommon.c: 記号 固有名詞 組織 * are not appropriate POS.\n",
      "  1%|          | 41/3302 [00:14<16:31,  3.29it/s]WARNING: convert_pos() in njd2jpcommon.c: 記号 固有名詞 組織 * are not appropriate POS.\n",
      "  2%|▏         | 60/3302 [00:20<15:09,  3.57it/s]WARNING: convert_pos() in njd2jpcommon.c: 記号 固有名詞 組織 * are not appropriate POS.\n",
      "WARNING: convert_pos() in njd2jpcommon.c: 記号 固有名詞 組織 * are not appropriate POS.\n",
      "  2%|▏         | 61/3302 [00:20<14:42,  3.67it/s]WARNING: convert_pos() in njd2jpcommon.c: 記号 固有名詞 組織 * are not appropriate POS.\n",
      "  2%|▏         | 64/3302 [00:21<14:11,  3.80it/s]WARNING: convert_pos() in njd2jpcommon.c: 記号 固有名詞 組織 * are not appropriate POS.\n",
      "  2%|▏         | 65/3302 [00:21<15:07,  3.57it/s]WARNING: convert_pos() in njd2jpcommon.c: 記号 固有名詞 組織 * are not appropriate POS.\n",
      "  2%|▏         | 67/3302 [00:22<15:11,  3.55it/s]WARNING: convert_pos() in njd2jpcommon.c: 記号 固有名詞 組織 * are not appropriate POS.\n",
      "  2%|▏         | 82/3302 [00:25<07:19,  7.33it/s]WARNING: convert_pos() in njd2jpcommon.c: 記号 固有名詞 組織 * are not appropriate POS.\n",
      "  3%|▎         | 89/3302 [00:26<10:53,  4.92it/s]WARNING: convert_pos() in njd2jpcommon.c: 記号 固有名詞 組織 * are not appropriate POS.\n",
      "  4%|▍         | 125/3302 [00:33<14:09,  3.74it/s]\n"
     ]
    },
    {
     "ename": "KeyboardInterrupt",
     "evalue": "",
     "output_type": "error",
     "traceback": [
      "\u001b[0;31m---------------------------------------------------------------------------\u001b[0m",
      "\u001b[0;31mKeyboardInterrupt\u001b[0m                         Traceback (most recent call last)",
      "\u001b[1;32m/home/mitani/bart/tts_prep_nn/make_pairdata.ipynb セル 4\u001b[0m line \u001b[0;36m5\n\u001b[1;32m      <a href='vscode-notebook-cell://ssh-remote%2Bsilver6/home/mitani/bart/tts_prep_nn/make_pairdata.ipynb#W3sdnNjb2RlLXJlbW90ZQ%3D%3D?line=2'>3</a>\u001b[0m results \u001b[39m=\u001b[39m []\n\u001b[1;32m      <a href='vscode-notebook-cell://ssh-remote%2Bsilver6/home/mitani/bart/tts_prep_nn/make_pairdata.ipynb#W3sdnNjb2RlLXJlbW90ZQ%3D%3D?line=3'>4</a>\u001b[0m \u001b[39mfor\u001b[39;00m filename \u001b[39min\u001b[39;00m tqdm\u001b[39m.\u001b[39mtqdm(trn_files):\n\u001b[0;32m----> <a href='vscode-notebook-cell://ssh-remote%2Bsilver6/home/mitani/bart/tts_prep_nn/make_pairdata.ipynb#W3sdnNjb2RlLXJlbW90ZQ%3D%3D?line=4'>5</a>\u001b[0m     results\u001b[39m.\u001b[39mextend(read_and_format_trn_file(filename))\n",
      "\u001b[1;32m/home/mitani/bart/tts_prep_nn/make_pairdata.ipynb セル 4\u001b[0m line \u001b[0;36m3\n\u001b[1;32m     <a href='vscode-notebook-cell://ssh-remote%2Bsilver6/home/mitani/bart/tts_prep_nn/make_pairdata.ipynb#W3sdnNjb2RlLXJlbW90ZQ%3D%3D?line=26'>27</a>\u001b[0m \u001b[39mif\u001b[39;00m \u001b[39mlen\u001b[39m(formatted_text) \u001b[39m==\u001b[39m \u001b[39m0\u001b[39m:\n\u001b[1;32m     <a href='vscode-notebook-cell://ssh-remote%2Bsilver6/home/mitani/bart/tts_prep_nn/make_pairdata.ipynb#W3sdnNjb2RlLXJlbW90ZQ%3D%3D?line=27'>28</a>\u001b[0m     \u001b[39mcontinue\u001b[39;00m\n\u001b[0;32m---> <a href='vscode-notebook-cell://ssh-remote%2Bsilver6/home/mitani/bart/tts_prep_nn/make_pairdata.ipynb#W3sdnNjb2RlLXJlbW90ZQ%3D%3D?line=29'>30</a>\u001b[0m phoneme_text \u001b[39m=\u001b[39m \u001b[39m'\u001b[39m\u001b[39m \u001b[39m\u001b[39m'\u001b[39m\u001b[39m.\u001b[39mjoin(pyopenjtalk_g2p_prosody(formatted_text))\n\u001b[1;32m     <a href='vscode-notebook-cell://ssh-remote%2Bsilver6/home/mitani/bart/tts_prep_nn/make_pairdata.ipynb#W3sdnNjb2RlLXJlbW90ZQ%3D%3D?line=31'>32</a>\u001b[0m \u001b[39mif\u001b[39;00m \u001b[39mlen\u001b[39m(phoneme_text) \u001b[39m==\u001b[39m \u001b[39m0\u001b[39m:\n\u001b[1;32m     <a href='vscode-notebook-cell://ssh-remote%2Bsilver6/home/mitani/bart/tts_prep_nn/make_pairdata.ipynb#W3sdnNjb2RlLXJlbW90ZQ%3D%3D?line=32'>33</a>\u001b[0m     \u001b[39mcontinue\u001b[39;00m\n",
      "File \u001b[0;32m/mnt/data2/home/mitani/bart/tts_prep_nn/espnet_phoneme_tokenizer.py:86\u001b[0m, in \u001b[0;36mpyopenjtalk_g2p_prosody\u001b[0;34m(text, drop_unvoiced_vowels)\u001b[0m\n\u001b[1;32m     83\u001b[0m lab_curr \u001b[39m=\u001b[39m labels[n]\n\u001b[1;32m     85\u001b[0m \u001b[39m# current phoneme\u001b[39;00m\n\u001b[0;32m---> 86\u001b[0m p3 \u001b[39m=\u001b[39m re\u001b[39m.\u001b[39;49msearch(\u001b[39mr\u001b[39;49m\u001b[39m\"\u001b[39;49m\u001b[39m\\\u001b[39;49m\u001b[39m-(.*?)\u001b[39;49m\u001b[39m\\\u001b[39;49m\u001b[39m+\u001b[39;49m\u001b[39m\"\u001b[39;49m, lab_curr)\u001b[39m.\u001b[39mgroup(\u001b[39m1\u001b[39m)\n\u001b[1;32m     88\u001b[0m \u001b[39m# deal unvoiced vowels as normal vowels\u001b[39;00m\n\u001b[1;32m     89\u001b[0m \u001b[39mif\u001b[39;00m drop_unvoiced_vowels \u001b[39mand\u001b[39;00m p3 \u001b[39min\u001b[39;00m \u001b[39m\"\u001b[39m\u001b[39mAEIOU\u001b[39m\u001b[39m\"\u001b[39m:\n",
      "File \u001b[0;32m~/anaconda3/envs/bart/lib/python3.8/re.py:196\u001b[0m, in \u001b[0;36msearch\u001b[0;34m(pattern, string, flags)\u001b[0m\n\u001b[1;32m    192\u001b[0m \u001b[39m    \u001b[39m\u001b[39m\"\"\"Try to apply the pattern to all of the string, returning\u001b[39;00m\n\u001b[1;32m    193\u001b[0m \u001b[39m    a Match object, or None if no match was found.\"\"\"\u001b[39;00m\n\u001b[1;32m    194\u001b[0m     \u001b[39mreturn\u001b[39;00m _compile(pattern, flags)\u001b[39m.\u001b[39mfullmatch(string)\n\u001b[0;32m--> 196\u001b[0m \u001b[39mdef\u001b[39;00m \u001b[39msearch\u001b[39m(pattern, string, flags\u001b[39m=\u001b[39m\u001b[39m0\u001b[39m):\n\u001b[1;32m    197\u001b[0m \u001b[39m    \u001b[39m\u001b[39m\"\"\"Scan through string looking for a match to the pattern, returning\u001b[39;00m\n\u001b[1;32m    198\u001b[0m \u001b[39m    a Match object, or None if no match was found.\"\"\"\u001b[39;00m\n\u001b[1;32m    199\u001b[0m     \u001b[39mreturn\u001b[39;00m _compile(pattern, flags)\u001b[39m.\u001b[39msearch(string)\n",
      "\u001b[0;31mKeyboardInterrupt\u001b[0m: "
     ]
    }
   ],
   "source": [
    "import tqdm\n",
    "\n",
    "results = []\n",
    "for filename in tqdm.tqdm(trn_files):\n",
    "    results.extend(read_and_format_trn_file(filename))"
   ]
  },
  {
   "cell_type": "code",
   "execution_count": null,
   "metadata": {},
   "outputs": [
    {
     "name": "stdout",
     "output_type": "stream",
     "text": [
      "{'session_id': 'A01F0055', 'utt_id': 5, 'channel': 'L', 'text': '発表します', 'phoneme_text': '^ h a [ cl py o o # sh i [ m a ] s u $'}\n",
      "{'session_id': 'A01F0055', 'utt_id': 8, 'channel': 'L', 'text': '私共は', 'phoneme_text': '^ w a [ t a sh i ] d o m o w a $'}\n",
      "{'session_id': 'A01F0055', 'utt_id': 9, 'channel': 'L', 'text': '乳児が音楽をどのように聞いているか', 'phoneme_text': '^ ny u ] u j i g a # o ] N g a k u o # d o ] n o # y o ] o n i # k i [ i t e # i [ r u ] k a $'}\n",
      "{'session_id': 'A01F0055', 'utt_id': 10, 'channel': 'L', 'text': 'また聴取に発達齢差が見られるかを検討しております', 'phoneme_text': '^ m a [ t a # ch o ] o sh u n i # h a [ cl t a ts u y o w a i ] s a g a # m i [ r a r e ] r u k a o # k e [ N t o o # sh i [ t e # o [ r i m a ] s u $'}\n",
      "{'session_id': 'A01F0055', 'utt_id': 11, 'channel': 'L', 'text': '本研究では旋律の調つまり長調ですとか短調の変化の', 'phoneme_text': '^ h o [ N k e ] N ky u u d e w a # s e [ N r i ts u n o # sh i ] r a b e # ts u [ m a r i ch o o ch o o d e ] s u t o k a # t a ] N ch o o n o # h e ] N k a n o $'}\n",
      "{'session_id': 'A01F0055', 'utt_id': 12, 'channel': 'L', 'text': '聞き分けに着目して', 'phoneme_text': '^ k i [ k i w a k e n i # ch a [ k u m o k u # sh i [ t e $'}\n",
      "{'session_id': 'A01F0055', 'utt_id': 13, 'channel': 'L', 'text': '実験を通して知見を得ましたので報告したいと思います', 'phoneme_text': '^ j i [ cl k e N o # t o [ o sh i ] t e # ch i [ k e N o # e [ m a ] sh i t a n o d e # h o [ o k o k u # sh i [ t a ] i t o # o [ m o i m a ] s u $'}\n",
      "{'session_id': 'A01F0055', 'utt_id': 14, 'channel': 'L', 'text': '長調短調の違いは', 'phoneme_text': '^ ch o [ o ch o o t a ] N ch o o n o # ch i [ g a i w a $'}\n",
      "{'session_id': 'A01F0055', 'utt_id': 16, 'channel': 'L', 'text': '成人の場合は比較的容易に普段から聞き分けていられると', 'phoneme_text': '^ s e [ e j i N n o # b a [ a i w a # h i [ k a k u t e k i # y o [ o i n i # f u ] d a N k a r a # k i [ k i w a k e ] t e # i [ r a r e r u t o $'}\n",
      "{'session_id': 'A01F0055', 'utt_id': 17, 'channel': 'L', 'text': '言われています', 'phoneme_text': '^ i [ w a r e t e # i [ m a ] s u $'}\n",
      "{'session_id': 'A01F0055', 'utt_id': 18, 'channel': 'L', 'text': 'また海外の研究では', 'phoneme_text': '^ m a [ t a # k a ] i g a i n o # k e [ N ky u u d e w a $'}\n"
     ]
    }
   ],
   "source": [
    "for i in range(11):\n",
    "    print(results[i])\n"
   ]
  },
  {
   "cell_type": "code",
   "execution_count": null,
   "metadata": {},
   "outputs": [],
   "source": [
    "# results[]の中身をall.jsonに保存\n",
    "import json\n",
    "json.dump(results, open('all.json', 'w', encoding='utf-8'), ensure_ascii=False)"
   ]
  }
 ],
 "metadata": {
  "kernelspec": {
   "display_name": "bart",
   "language": "python",
   "name": "python3"
  },
  "language_info": {
   "codemirror_mode": {
    "name": "ipython",
    "version": 3
   },
   "file_extension": ".py",
   "mimetype": "text/x-python",
   "name": "python",
   "nbconvert_exporter": "python",
   "pygments_lexer": "ipython3",
   "version": "3.8.0"
  }
 },
 "nbformat": 4,
 "nbformat_minor": 2
}
